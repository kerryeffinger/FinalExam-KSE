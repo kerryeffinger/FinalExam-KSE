{
 "cells": [
  {
   "cell_type": "markdown",
   "metadata": {},
   "source": [
    "# Final Exam Assignment (problem 2)\n",
    "---\n",
    "**Author:** Kerry Effinger  \n",
    "**Version:** 1.0  \n",
    "**Semester:** Fall 2020  \n",
    "\n",
    "This *notebook* contains my solution to **Final Exam**"
   ]
  },
  {
   "cell_type": "code",
   "execution_count": 1201,
   "metadata": {},
   "outputs": [],
   "source": [
    "import os\n",
    "from prettytable import PrettyTable\n",
    "import statistics as stat\n",
    "import itertools\n",
    "import string"
   ]
  },
  {
   "cell_type": "markdown",
   "metadata": {},
   "source": [
    "## derive_filename"
   ]
  },
  {
   "cell_type": "code",
   "execution_count": 1202,
   "metadata": {},
   "outputs": [],
   "source": [
    "def derive_filename(title):\n",
    "    \"\"\"this function accepts a poem title and returns the file name\"\"\"\n",
    "    title = str(title)\n",
    "    l = title.lower()\n",
    "    words = str(l).split()\n",
    "    file= '_'.join(words) + '.txt'\n",
    "    return str(file)"
   ]
  },
  {
   "cell_type": "markdown",
   "metadata": {},
   "source": [
    "## count_stanzas"
   ]
  },
  {
   "cell_type": "code",
   "execution_count": 1204,
   "metadata": {},
   "outputs": [],
   "source": [
    "def count_stanzas(title):\n",
    "    \"\"\"this function accepts the title of a poem and returns the number of stanzas in that poem\"\"\"\n",
    "    filename = str(derive_filename(title))\n",
    "    data = \"\"\n",
    "    with open(filename, mode = 'r', newline='') as poem:\n",
    "        data = poem.readlines()\n",
    "        if '\\r\\n' in data:\n",
    "            stanzas = int(data.count('\\r\\n'))\n",
    "            return stanzas"
   ]
  },
  {
   "cell_type": "markdown",
   "metadata": {},
   "source": [
    "## count_lines"
   ]
  },
  {
   "cell_type": "code",
   "execution_count": 1207,
   "metadata": {},
   "outputs": [],
   "source": [
    "def count_lines(title):\n",
    "    \"\"\"this function accepts a poem name and finds the number of lines in that poem\"\"\"\n",
    "    filename = str(derive_filename(title))\n",
    "    data = \"\"\n",
    "    with open(filename, mode = 'r', newline='') as poem:\n",
    "        data = poem.readlines()\n",
    "    return int(len(data) - data.count('\\r\\n'))"
   ]
  },
  {
   "cell_type": "markdown",
   "metadata": {},
   "source": [
    "## average_words_line"
   ]
  },
  {
   "cell_type": "code",
   "execution_count": 1209,
   "metadata": {},
   "outputs": [],
   "source": [
    "def average_words_line(title):\n",
    "    \"\"\"this function accepts a poem title and returns the average number of words per line\"\"\"\n",
    "    filename = str(derive_filename(title))\n",
    "    with open(filename, mode = 'r', newline='') as poem:\n",
    "        wordsperline = list()\n",
    "        for item in poem:\n",
    "            wordsperline.append(len(item.split()))\n",
    "        wordsperline=[i for i in wordsperline if i != 0]    \n",
    "        return stat.mean(wordsperline)"
   ]
  },
  {
   "cell_type": "markdown",
   "metadata": {},
   "source": [
    "## average_words_stanza"
   ]
  },
  {
   "cell_type": "code",
   "execution_count": 1211,
   "metadata": {},
   "outputs": [],
   "source": [
    "def average_words_stanza(title):\n",
    "    \"\"\"this function accepts a poem title and returns the average number of words in stanzas\"\"\"\n",
    "    filename = str(derive_filename(title))\n",
    "    with open(filename, mode = 'r', newline='') as poem:\n",
    "        lines = list()\n",
    "        for item in poem:\n",
    "            lines.append(item.split())\n",
    "        words = list(itertools.chain(*lines)) \n",
    "        wordsperstanza = len(words) / count_stanzas(title)\n",
    "        return wordsperstanza"
   ]
  },
  {
   "cell_type": "markdown",
   "metadata": {},
   "source": [
    "## average_words_length"
   ]
  },
  {
   "cell_type": "code",
   "execution_count": 1213,
   "metadata": {},
   "outputs": [],
   "source": [
    "def average_words_length(title):\n",
    "    \"\"\"this function accepts a poem title and returns the average length of the words in the poem\"\"\"\n",
    "    filename = str(derive_filename(title))\n",
    "    with open(filename, mode = 'r', newline='') as poem:\n",
    "        lines = list()\n",
    "        for item in poem:\n",
    "            lines.append(item.split())\n",
    "        lines=[i for i in lines if i != []] \n",
    "        words = list(itertools.chain(*lines))\n",
    "        \n",
    "        letters = list()\n",
    "        for w in words:\n",
    "            letters += w\n",
    "            \n",
    "        lettercount = 0   \n",
    "        for l in letters:\n",
    "            if l.isalpha()==True:\n",
    "                lettercount = lettercount + 1\n",
    "                \n",
    "        wordlength = lettercount / int(len(words))\n",
    "          \n",
    "        return wordlength"
   ]
  },
  {
   "cell_type": "markdown",
   "metadata": {},
   "source": [
    "## print_poem"
   ]
  },
  {
   "cell_type": "code",
   "execution_count": 1215,
   "metadata": {},
   "outputs": [],
   "source": [
    "def print_poem(title):\n",
    "    \"\"\"this function accepts the poem name and returns the poem with the title\"\"\"\n",
    "    filename = str(derive_filename(title))\n",
    "    print('\\n')\n",
    "    print(title.upper())\n",
    "    with open(filename, mode = 'r', newline = '') as p:\n",
    "        for record in p:\n",
    "            print(record)"
   ]
  },
  {
   "cell_type": "markdown",
   "metadata": {},
   "source": [
    "## process_poem "
   ]
  },
  {
   "cell_type": "code",
   "execution_count": 1217,
   "metadata": {},
   "outputs": [],
   "source": [
    "def process_poem(title):\n",
    "    \"\"\"this function accepts a poem name and returns a dictionary with the statistics of the poem\"\"\"\n",
    "    statdict = dict()\n",
    "    filename = str(derive_filename(title))\n",
    "    dictvalues = list()\n",
    "    dictvalues = [count_stanzas(title), count_lines(title), average_words_line(title),\n",
    "                       average_words_stanza(title), average_words_length(title)]\n",
    "    statdict = {title.upper():dictvalues}\n",
    "    return statdict"
   ]
  },
  {
   "cell_type": "markdown",
   "metadata": {},
   "source": [
    "## print_poem_stats "
   ]
  },
  {
   "cell_type": "code",
   "execution_count": 1220,
   "metadata": {},
   "outputs": [],
   "source": [
    "def print_poem_stats(dictionary):\n",
    "    \"\"\"this function accepts a dictionary and returns prettytable with the stats\"\"\"\n",
    "\n",
    "    header = ['Poem Title','Number of Stanzas','Number of Lines','Avg Words/Line','Avg Words/Stanza','Avg Word Length']\n",
    "    \n",
    "    p = PrettyTable(header)\n",
    "    \n",
    "    dictlist = list()\n",
    "    for item in dictionary.keys():\n",
    "        dictlist.append(item)\n",
    "    \n",
    "    for item in dictionary.values():\n",
    "        dictvalues = item\n",
    "    \n",
    "    for item in dictvalues:\n",
    "        dictlist.append(item)\n",
    "    \n",
    "    p.add_row(dictlist)\n",
    "    \n",
    "    print(p)"
   ]
  },
  {
   "cell_type": "markdown",
   "metadata": {},
   "source": [
    "## main"
   ]
  },
  {
   "cell_type": "code",
   "execution_count": 1226,
   "metadata": {},
   "outputs": [
    {
     "name": "stdout",
     "output_type": "stream",
     "text": [
      "Enter a poem name (-1 to quit): Bond and Free\n",
      "+---------------+-------------------+-----------------+----------------+------------------+-------------------+\n",
      "|   Poem Title  | Number of Stanzas | Number of Lines | Avg Words/Line | Avg Words/Stanza |  Avg Word Length  |\n",
      "+---------------+-------------------+-----------------+----------------+------------------+-------------------+\n",
      "| BOND AND FREE |         4         |        20       |      6.95      |      34.75       | 4.194244604316546 |\n",
      "+---------------+-------------------+-----------------+----------------+------------------+-------------------+\n",
      "\n",
      "\n",
      "BOND AND FREE\n",
      "Love has earth to which she clings\n",
      "\n",
      "With hills and circling arms about--\n",
      "\n",
      "Wall within wall to shut fear out.\n",
      "\n",
      "But Thought has need of no such things,\n",
      "\n",
      "For Thought has a pair of dauntless wings.\n",
      "\n",
      "\n",
      "\n",
      "On snow and sand and turf, I see\n",
      "\n",
      "Where Love has left a printed trace\n",
      "\n",
      "With straining in the world's embrace.\n",
      "\n",
      "And such is Love and glad to be.\n",
      "\n",
      "But Thought has shaken his ankles free.\n",
      "\n",
      "\n",
      "\n",
      "Thought cleaves the interstellar gloom\n",
      "\n",
      "And sits in Sirius' disc all night,\n",
      "\n",
      "Till day makes him retrace his flight,\n",
      "\n",
      "With smell of burning on every plume,\n",
      "\n",
      "Back past the sun to an earthly room.\n",
      "\n",
      "\n",
      "\n",
      "His gains in heaven are what they are.\n",
      "\n",
      "Yet some say Love by being thrall\n",
      "\n",
      "And simply staying possesses all\n",
      "\n",
      "In several beauty that Thought fares far\n",
      "\n",
      "To find fused in another star.\n",
      "\n",
      "\n",
      "\n",
      "Enter a poem name (-1 to quit): -1\n"
     ]
    }
   ],
   "source": [
    "poemtitle = input('Enter a poem name (-1 to quit): ')\n",
    "\n",
    "while poemtitle != '-1':\n",
    "    poemdict = process_poem(poemtitle)\n",
    "    print_poem_stats(poemdict)\n",
    "    print_poem(poemtitle)\n",
    "    \n",
    "    poemtitle = input('Enter a poem name (-1 to quit): ')\n",
    "    \n",
    "    "
   ]
  },
  {
   "cell_type": "code",
   "execution_count": null,
   "metadata": {},
   "outputs": [],
   "source": []
  }
 ],
 "metadata": {
  "kernelspec": {
   "display_name": "Python 3",
   "language": "python",
   "name": "python3"
  },
  "language_info": {
   "codemirror_mode": {
    "name": "ipython",
    "version": 3
   },
   "file_extension": ".py",
   "mimetype": "text/x-python",
   "name": "python",
   "nbconvert_exporter": "python",
   "pygments_lexer": "ipython3",
   "version": "3.8.3"
  }
 },
 "nbformat": 4,
 "nbformat_minor": 4
}
